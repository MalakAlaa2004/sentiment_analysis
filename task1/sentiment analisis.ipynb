{
 "cells": [
  {
   "cell_type": "code",
   "execution_count": 1,
   "metadata": {},
   "outputs": [],
   "source": [
    "import pandas as pd\n",
    "import numpy as np\n",
    "import re\n",
    "import nltk\n",
    "from nltk.corpus import stopwords\n",
    "from sklearn.feature_extraction.text import TfidfVectorizer\n",
    "from sklearn.model_selection import train_test_split\n",
    "from sklearn.naive_bayes import MultinomialNB\n",
    "from sklearn.pipeline import Pipeline\n",
    "from sklearn.metrics import accuracy_score\n"
   ]
  },
  {
   "cell_type": "code",
   "execution_count": 2,
   "metadata": {},
   "outputs": [
    {
     "name": "stderr",
     "output_type": "stream",
     "text": [
      "[nltk_data] Downloading package stopwords to\n",
      "[nltk_data]     C:\\Users\\LENOVO\\AppData\\Roaming\\nltk_data...\n",
      "[nltk_data]   Unzipping corpora\\stopwords.zip.\n"
     ]
    }
   ],
   "source": [
    "# Download stopwords\n",
    "nltk.download('stopwords')\n",
    "stop_words = set(stopwords.words('english'))"
   ]
  },
  {
   "cell_type": "code",
   "execution_count": 5,
   "metadata": {},
   "outputs": [],
   "source": [
    "# Load Sentiment140 dataset\n",
    "def load_data(filepath, sample_size=10000):\n",
    "    column_names = [\"target\", \"id\", \"date\", \"flag\", \"user\", \"text\"]\n",
    "    df = pd.read_csv(filepath, encoding='latin-1', names=column_names)\n",
    "    \n",
    "    # Keep only 'target' and 'text' columns\n",
    "    df = df[['target', 'text']]\n",
    "    \n",
    "    # Convert sentiment labels (0 = negative, 4 = positive)\n",
    "    df['target'] = df['target'].replace({0: \"negative\", 4: \"positive\"})\n",
    "    \n",
    "    # Sample a smaller dataset for training\n",
    "    df = df.sample(sample_size, random_state=42)\n",
    "    \n",
    "    return df"
   ]
  },
  {
   "cell_type": "code",
   "execution_count": 6,
   "metadata": {},
   "outputs": [],
   "source": [
    "# Preprocess text (remove special characters, stopwords, etc.)\n",
    "def preprocess_text(text):\n",
    "    text = text.lower()  # Lowercase text\n",
    "    text = re.sub(r'http\\S+|www\\S+', '', text)  # Remove URLs\n",
    "    text = re.sub(r'@\\w+', '', text)  # Remove mentions\n",
    "    text = re.sub(r'[^a-zA-Z\\s]', '', text)  # Remove non-alphabetic characters\n",
    "    text = ' '.join([word for word in text.split() if word not in stop_words])  # Remove stopwords\n",
    "    return text"
   ]
  },
  {
   "cell_type": "code",
   "execution_count": 7,
   "metadata": {},
   "outputs": [
    {
     "name": "stdout",
     "output_type": "stream",
     "text": [
      "Model Accuracy: 0.72\n"
     ]
    }
   ],
   "source": [
    "# Load and preprocess data\n",
    "data_path = \"training.1600000.processed.noemoticon.csv\"  # Change this to your dataset path\n",
    "df = load_data(data_path)\n",
    "\n",
    "# Apply text preprocessing\n",
    "df['text'] = df['text'].apply(preprocess_text)\n",
    "\n",
    "# Split dataset into training and testing sets\n",
    "X_train, X_test, y_train, y_test = train_test_split(df['text'], df['target'], test_size=0.2, random_state=42)\n",
    "\n",
    "# Create a pipeline for vectorization + classification\n",
    "model = Pipeline([\n",
    "    ('tfidf', TfidfVectorizer(max_features=5000)),  # Convert text to numerical vectors\n",
    "    ('classifier', MultinomialNB())  # Train Naive Bayes classifier\n",
    "])\n",
    "\n",
    "# Train the model\n",
    "model.fit(X_train, y_train)\n",
    "\n",
    "# Evaluate on test set\n",
    "y_pred = model.predict(X_test)\n",
    "accuracy = accuracy_score(y_test, y_pred)\n",
    "print(f\"Model Accuracy: {accuracy:.2f}\")\n"
   ]
  },
  {
   "cell_type": "code",
   "execution_count": 8,
   "metadata": {},
   "outputs": [
    {
     "name": "stdout",
     "output_type": "stream",
     "text": [
      "Predicted Sentiment: negative\n",
      "Predicted Sentiment: positive\n",
      "Predicted Sentiment: negative\n"
     ]
    }
   ],
   "source": [
    "# Function to predict sentiment for new input text\n",
    "def predict_sentiment(text):\n",
    "    text = preprocess_text(text)\n",
    "    prediction = model.predict([text])[0]\n",
    "    return prediction\n",
    "\n",
    "# Test with user input\n",
    "while True:\n",
    "    user_text = input(\"\\nEnter a tweet (or 'exit' to quit): \")\n",
    "    if user_text.lower() == 'exit':\n",
    "        break\n",
    "    sentiment = predict_sentiment(user_text)\n",
    "    print(f\"Predicted Sentiment: {sentiment}\")"
   ]
  }
 ],
 "metadata": {
  "kernelspec": {
   "display_name": "Python 3",
   "language": "python",
   "name": "python3"
  },
  "language_info": {
   "codemirror_mode": {
    "name": "ipython",
    "version": 3
   },
   "file_extension": ".py",
   "mimetype": "text/x-python",
   "name": "python",
   "nbconvert_exporter": "python",
   "pygments_lexer": "ipython3",
   "version": "3.9.13"
  }
 },
 "nbformat": 4,
 "nbformat_minor": 2
}
